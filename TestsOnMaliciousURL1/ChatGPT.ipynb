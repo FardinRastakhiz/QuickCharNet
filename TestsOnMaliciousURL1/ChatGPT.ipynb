{
 "cells": [
  {
   "cell_type": "code",
   "execution_count": 25,
   "metadata": {},
   "outputs": [],
   "source": [
    "import pandas as pd\n",
    "import json\n",
    "from copy import copy, deepcopy"
   ]
  },
  {
   "cell_type": "code",
   "execution_count": 3,
   "metadata": {},
   "outputs": [],
   "source": [
    "df = pd.read_csv(r'datasets\\MaliciousURL1\\malicious_phish.csv')"
   ]
  },
  {
   "cell_type": "code",
   "execution_count": 15,
   "metadata": {},
   "outputs": [],
   "source": [
    "template_dict = {\"custom_id\": \"\", \"method\": \"POST\", \"url\": \"/v1/embeddings\", \"body\": {\"model\": \"text-embedding-3-small\", \"input\": \"\",\"max_tokens\": 1000}}"
   ]
  },
  {
   "cell_type": "code",
   "execution_count": 44,
   "metadata": {},
   "outputs": [
    {
     "name": "stdout",
     "output_type": "stream",
     "text": [
      "0 50000\n",
      "50000 100000\n",
      "100000 150000\n",
      "150000 200000\n",
      "200000 250000\n",
      "250000 300000\n",
      "300000 350000\n",
      "350000 400000\n",
      "400000 450000\n",
      "450000 500000\n",
      "500000 550000\n",
      "550000 600000\n",
      "600000 650000\n",
      "650000 651191\n"
     ]
    }
   ],
   "source": [
    "intervals = 50000\n",
    "previous = 0\n",
    "for i in range(intervals, len(df)+intervals, intervals):\n",
    "    i = min(len(df), i)\n",
    "    print(previous, i)\n",
    "    list_of_urls = []\n",
    "    for j in range(previous, i):\n",
    "        url = df['url'].iloc[j]\n",
    "        template_dict[\"custom_id\"] = f\"url-{j}\"\n",
    "        template_dict[\"body\"][\"input\"] = url\n",
    "        list_of_urls.append(json.dumps(template_dict))\n",
    "        \n",
    "    with open(fr\"TestsOnMaliciousURL1\\ChatGPTData\\samples_{previous}_{i}.jsonl\", 'ta') as f:\n",
    "        for url in list_of_urls:\n",
    "            f.write(url + \"\\n\")\n",
    "    previous = i\n",
    "    "
   ]
  },
  {
   "cell_type": "code",
   "execution_count": 46,
   "metadata": {},
   "outputs": [],
   "source": [
    "with open(r'TestsOnMaliciousURL1\\ChatGPTData\\batch_0eIufBJHsSd2vMEAJ97RYI6u_samples_650000_651191_output.jsonl', 'rt') as f:\n",
    "    all_lines = []\n",
    "    for line in f.readlines():\n",
    "        all_lines.append(json.loads(line))"
   ]
  },
  {
   "cell_type": "code",
   "execution_count": 56,
   "metadata": {},
   "outputs": [
    {
     "data": {
      "text/plain": [
       "-0.107443534"
      ]
     },
     "execution_count": 56,
     "metadata": {},
     "output_type": "execute_result"
    }
   ],
   "source": [
    "min(all_lines[0]['response']['body']['data'][0]['embedding'])"
   ]
  },
  {
   "cell_type": "code",
   "execution_count": null,
   "metadata": {},
   "outputs": [],
   "source": [
    "for i, url in enumerate(df['url']).values:\n",
    "    "
   ]
  },
  {
   "cell_type": "code",
   "execution_count": 31,
   "metadata": {},
   "outputs": [],
   "source": [
    "list_of_urls = []\n",
    "for i, url in enumerate(df['url'].iloc[:100].values):\n",
    "    template_dict[\"custom_id\"] = f\"url-{i}\"\n",
    "    template_dict[\"body\"][\"input\"] = url\n",
    "    list_of_urls.append(json.dumps(template_dict))"
   ]
  },
  {
   "cell_type": "code",
   "execution_count": 34,
   "metadata": {},
   "outputs": [],
   "source": [
    "with open(\"sample.jsonl\", 'ta') as f:\n",
    "    for url in list_of_urls:\n",
    "        f.write(url + \"\\n\")"
   ]
  },
  {
   "cell_type": "code",
   "execution_count": 28,
   "metadata": {},
   "outputs": [],
   "source": [
    "jsonurls = json.dumps(list_of_urls)"
   ]
  },
  {
   "cell_type": "code",
   "execution_count": 29,
   "metadata": {},
   "outputs": [
    {
     "data": {
      "text/plain": [
       "'[{\"custom_id\": \"url-0\", \"method\": \"POST\", \"url\": \"/v1/embeddings\", \"body\": {\"model\": \"text-embedding-3-small\", \"input\": \"br-icloud.com.br\", \"max_tokens\": 1000}}, {\"custom_id\": \"url-1\", \"method\": \"POST\", \"url\": \"/v1/embeddings\", \"body\": {\"model\": \"text-embedding-3-small\", \"input\": \"mp3raid.com/music/krizz_kaliko.html\", \"max_tokens\": 1000}}, {\"custom_id\": \"url-2\", \"method\": \"POST\", \"url\": \"/v1/embeddings\", \"body\": {\"model\": \"text-embedding-3-small\", \"input\": \"bopsecrets.org/rexroth/cr/1.htm\", \"max_tokens\": 1000}}, {\"custom_id\": \"url-3\", \"method\": \"POST\", \"url\": \"/v1/embeddings\", \"body\": {\"model\": \"text-embedding-3-small\", \"input\": \"http://www.garage-pirenne.be/index.php?option=com_content&view=article&id=70&vsig70_0=15\", \"max_tokens\": 1000}}, {\"custom_id\": \"url-4\", \"method\": \"POST\", \"url\": \"/v1/embeddings\", \"body\": {\"model\": \"text-embedding-3-small\", \"input\": \"http://adventure-nicaragua.net/index.php?option=com_mailto&tmpl=component&link=aHR0cDovL2FkdmVudHVyZS1uaWNhcmFndWEubmV0L2luZGV4LnBocD9vcHRpb249Y29tX2NvbnRlbnQmdmlldz1hcnRpY2xlJmlkPTQ3OmFib3V0JmNhdGlkPTM2OmRlbW8tYXJ0aWNsZXMmSXRlbWlkPTU0\", \"max_tokens\": 1000}}, {\"custom_id\": \"url-5\", \"method\": \"POST\", \"url\": \"/v1/embeddings\", \"body\": {\"model\": \"text-embedding-3-small\", \"input\": \"http://buzzfil.net/m/show-art/ils-etaient-loin-de-s-imaginer-que-le-hibou-allait-faire-ceci-quand-ils-filmaient-2.html\", \"max_tokens\": 1000}}, {\"custom_id\": \"url-6\", \"method\": \"POST\", \"url\": \"/v1/embeddings\", \"body\": {\"model\": \"text-embedding-3-small\", \"input\": \"espn.go.com/nba/player/_/id/3457/brandon-rush\", \"max_tokens\": 1000}}, {\"custom_id\": \"url-7\", \"method\": \"POST\", \"url\": \"/v1/embeddings\", \"body\": {\"model\": \"text-embedding-3-small\", \"input\": \"yourbittorrent.com/?q=anthony-hamilton-soulife\", \"max_tokens\": 1000}}, {\"custom_id\": \"url-8\", \"method\": \"POST\", \"url\": \"/v1/embeddings\", \"body\": {\"model\": \"text-embedding-3-small\", \"input\": \"http://www.pashminaonline.com/pure-pashminas\", \"max_tokens\": 1000}}, {\"custom_id\": \"url-9\", \"method\": \"POST\", \"url\": \"/v1/embeddings\", \"body\": {\"model\": \"text-embedding-3-small\", \"input\": \"allmusic.com/album/crazy-from-the-heat-r16990\", \"max_tokens\": 1000}}, {\"custom_id\": \"url-10\", \"method\": \"POST\", \"url\": \"/v1/embeddings\", \"body\": {\"model\": \"text-embedding-3-small\", \"input\": \"corporationwiki.com/Ohio/Columbus/frank-s-benson-P3333917.aspx\", \"max_tokens\": 1000}}, {\"custom_id\": \"url-11\", \"method\": \"POST\", \"url\": \"/v1/embeddings\", \"body\": {\"model\": \"text-embedding-3-small\", \"input\": \"http://www.ikenmijnkunst.nl/index.php/exposities/exposities-2006\", \"max_tokens\": 1000}}, {\"custom_id\": \"url-12\", \"method\": \"POST\", \"url\": \"/v1/embeddings\", \"body\": {\"model\": \"text-embedding-3-small\", \"input\": \"myspace.com/video/vid/30602581\", \"max_tokens\": 1000}}, {\"custom_id\": \"url-13\", \"method\": \"POST\", \"url\": \"/v1/embeddings\", \"body\": {\"model\": \"text-embedding-3-small\", \"input\": \"http://www.lebensmittel-ueberwachung.de/index.php/aktuelles.1\", \"max_tokens\": 1000}}, {\"custom_id\": \"url-14\", \"method\": \"POST\", \"url\": \"/v1/embeddings\", \"body\": {\"model\": \"text-embedding-3-small\", \"input\": \"http://www.szabadmunkaero.hu/cimoldal.html?start=12\", \"max_tokens\": 1000}}, {\"custom_id\": \"url-15\", \"method\": \"POST\", \"url\": \"/v1/embeddings\", \"body\": {\"model\": \"text-embedding-3-small\", \"input\": \"http://larcadelcarnevale.com/catalogo/palloncini\", \"max_tokens\": 1000}}, {\"custom_id\": \"url-16\", \"method\": \"POST\", \"url\": \"/v1/embeddings\", \"body\": {\"model\": \"text-embedding-3-small\", \"input\": \"quickfacts.census.gov/qfd/maps/iowa_map.html\", \"max_tokens\": 1000}}, {\"custom_id\": \"url-17\", \"method\": \"POST\", \"url\": \"/v1/embeddings\", \"body\": {\"model\": \"text-embedding-3-small\", \"input\": \"nugget.ca/ArticleDisplay.aspx?archive=true&e=1160966\", \"max_tokens\": 1000}}, {\"custom_id\": \"url-18\", \"method\": \"POST\", \"url\": \"/v1/embeddings\", \"body\": {\"model\": \"text-embedding-3-small\", \"input\": \"uk.linkedin.com/pub/steve-rubenstein/8/718/755\", \"max_tokens\": 1000}}, {\"custom_id\": \"url-19\", \"method\": \"POST\", \"url\": \"/v1/embeddings\", \"body\": {\"model\": \"text-embedding-3-small\", \"input\": \"http://www.vnic.co/khach-hang.html\", \"max_tokens\": 1000}}, {\"custom_id\": \"url-20\", \"method\": \"POST\", \"url\": \"/v1/embeddings\", \"body\": {\"model\": \"text-embedding-3-small\", \"input\": \"baseball-reference.com/players/h/harrige01.shtml\", \"max_tokens\": 1000}}, {\"custom_id\": \"url-21\", \"method\": \"POST\", \"url\": \"/v1/embeddings\", \"body\": {\"model\": \"text-embedding-3-small\", \"input\": \"signin.eby.de.zukruygxctzmmqi.civpro.co.za\", \"max_tokens\": 1000}}, {\"custom_id\": \"url-22\", \"method\": \"POST\", \"url\": \"/v1/embeddings\", \"body\": {\"model\": \"text-embedding-3-small\", \"input\": \"192.com/atoz/people/oakley/patrick/\", \"max_tokens\": 1000}}, {\"custom_id\": \"url-23\", \"method\": \"POST\", \"url\": \"/v1/embeddings\", \"body\": {\"model\": \"text-embedding-3-small\", \"input\": \"nytimes.com/1998/03/29/style/cuttings-oh-that-brazen-raucous-glorious-hibiscus.html\", \"max_tokens\": 1000}}, {\"custom_id\": \"url-24\", \"method\": \"POST\", \"url\": \"/v1/embeddings\", \"body\": {\"model\": \"text-embedding-3-small\", \"input\": \"escholarship.org/uc/item/5xt4952c\", \"max_tokens\": 1000}}, {\"custom_id\": \"url-25\", \"method\": \"POST\", \"url\": \"/v1/embeddings\", \"body\": {\"model\": \"text-embedding-3-small\", \"input\": \"songfacts.com/detail.php?id=13410\", \"max_tokens\": 1000}}, {\"custom_id\": \"url-26\", \"method\": \"POST\", \"url\": \"/v1/embeddings\", \"body\": {\"model\": \"text-embedding-3-small\", \"input\": \"casamanana.org/education/blba/\", \"max_tokens\": 1000}}, {\"custom_id\": \"url-27\", \"method\": \"POST\", \"url\": \"/v1/embeddings\", \"body\": {\"model\": \"text-embedding-3-small\", \"input\": \"http://hollywoodlife.com/2014/05/01/rihanna-iheartradio-music-awards-dress-2014-pics/\", \"max_tokens\": 1000}}, {\"custom_id\": \"url-28\", \"method\": \"POST\", \"url\": \"/v1/embeddings\", \"body\": {\"model\": \"text-embedding-3-small\", \"input\": \"http://www.marketingbyinternet.com/mo/e56508df639f6ce7d55c81ee3fcd5ba8/\", \"max_tokens\": 1000}}, {\"custom_id\": \"url-29\", \"method\": \"POST\", \"url\": \"/v1/embeddings\", \"body\": {\"model\": \"text-embedding-3-small\", \"input\": \"en.wikipedia.org/wiki/North_Dakota\", \"max_tokens\": 1000}}, {\"custom_id\": \"url-30\", \"method\": \"POST\", \"url\": \"/v1/embeddings\", \"body\": {\"model\": \"text-embedding-3-small\", \"input\": \"soaps.sheknows.com/daysofourlives/news/id/20259/Days_Of_Our_Lives_Casts_Ruta_Lee/\", \"max_tokens\": 1000}}, {\"custom_id\": \"url-31\", \"method\": \"POST\", \"url\": \"/v1/embeddings\", \"body\": {\"model\": \"text-embedding-3-small\", \"input\": \"perfectpeople.net/celebrity-star/6920/gidget-gein.htm\", \"max_tokens\": 1000}}, {\"custom_id\": \"url-32\", \"method\": \"POST\", \"url\": \"/v1/embeddings\", \"body\": {\"model\": \"text-embedding-3-small\", \"input\": \"media.caltech.edu/press_releases/13186\", \"max_tokens\": 1000}}, {\"custom_id\": \"url-33\", \"method\": \"POST\", \"url\": \"/v1/embeddings\", \"body\": {\"model\": \"text-embedding-3-small\", \"input\": \"wikiobits.com/Obits/TonyProudfoot\", \"max_tokens\": 1000}}, {\"custom_id\": \"url-34\", \"method\": \"POST\", \"url\": \"/v1/embeddings\", \"body\": {\"model\": \"text-embedding-3-small\", \"input\": \"vanderbilt.rivals.com/viewcoach.asp?coach=2079&sport=1&year=2011\", \"max_tokens\": 1000}}, {\"custom_id\": \"url-35\", \"method\": \"POST\", \"url\": \"/v1/embeddings\", \"body\": {\"model\": \"text-embedding-3-small\", \"input\": \"http://peluqueriadeautor.com/index.php?option=com_virtuemart&page=shop.browse&category_id=31&Itemid=70\", \"max_tokens\": 1000}}, {\"custom_id\": \"url-36\", \"method\": \"POST\", \"url\": \"/v1/embeddings\", \"body\": {\"model\": \"text-embedding-3-small\", \"input\": \"movies.yahoo.com/shop?d=hv&cf=info&id=1800340831\", \"max_tokens\": 1000}}, {\"custom_id\": \"url-37\", \"method\": \"POST\", \"url\": \"/v1/embeddings\", \"body\": {\"model\": \"text-embedding-3-small\", \"input\": \"cyndislist.com/us/pa/counties\", \"max_tokens\": 1000}}, {\"custom_id\": \"url-38\", \"method\": \"POST\", \"url\": \"/v1/embeddings\", \"body\": {\"model\": \"text-embedding-3-small\", \"input\": \"http://www.824555.com/app/member/SportOption.php?uid=guest&langx=gb\", \"max_tokens\": 1000}}, {\"custom_id\": \"url-39\", \"method\": \"POST\", \"url\": \"/v1/embeddings\", \"body\": {\"model\": \"text-embedding-3-small\", \"input\": \"http://www.raci.it/component/user/reset.html\", \"max_tokens\": 1000}}, {\"custom_id\": \"url-40\", \"method\": \"POST\", \"url\": \"/v1/embeddings\", \"body\": {\"model\": \"text-embedding-3-small\", \"input\": \"https://docs.google.com/spreadsheet/viewform?formkey=dGg2Z1lCUHlSdjllTVNRUW50TFIzSkE6MQ\", \"max_tokens\": 1000}}, {\"custom_id\": \"url-41\", \"method\": \"POST\", \"url\": \"/v1/embeddings\", \"body\": {\"model\": \"text-embedding-3-small\", \"input\": \"psychology.wikia.com/wiki/Phonemes\", \"max_tokens\": 1000}}, {\"custom_id\": \"url-42\", \"method\": \"POST\", \"url\": \"/v1/embeddings\", \"body\": {\"model\": \"text-embedding-3-small\", \"input\": \"info.centriq.com/content/fivereasons\", \"max_tokens\": 1000}}, {\"custom_id\": \"url-43\", \"method\": \"POST\", \"url\": \"/v1/embeddings\", \"body\": {\"model\": \"text-embedding-3-small\", \"input\": \"articles.baltimoresun.com/1991-06-11/sports/1991162162_1_james-koehler-texas-rangers-terrell-lowery\", \"max_tokens\": 1000}}, {\"custom_id\": \"url-44\", \"method\": \"POST\", \"url\": \"/v1/embeddings\", \"body\": {\"model\": \"text-embedding-3-small\", \"input\": \"infinitysw.com/\", \"max_tokens\": 1000}}, {\"custom_id\": \"url-45\", \"method\": \"POST\", \"url\": \"/v1/embeddings\", \"body\": {\"model\": \"text-embedding-3-small\", \"input\": \"strawberrycreekgardens.com/\", \"max_tokens\": 1000}}, {\"custom_id\": \"url-46\", \"method\": \"POST\", \"url\": \"/v1/embeddings\", \"body\": {\"model\": \"text-embedding-3-small\", \"input\": \"http://earth-sure.com/industrial-tech/everlast-impact-resistant-dumpster-enclosure\", \"max_tokens\": 1000}}, {\"custom_id\": \"url-47\", \"method\": \"POST\", \"url\": \"/v1/embeddings\", \"body\": {\"model\": \"text-embedding-3-small\", \"input\": \"spoke.com/dir/p/desantis/nick\", \"max_tokens\": 1000}}, {\"custom_id\": \"url-48\", \"method\": \"POST\", \"url\": \"/v1/embeddings\", \"body\": {\"model\": \"text-embedding-3-small\", \"input\": \"wordsmith.org/words/pignus.html\", \"max_tokens\": 1000}}, {\"custom_id\": \"url-49\", \"method\": \"POST\", \"url\": \"/v1/embeddings\", \"body\": {\"model\": \"text-embedding-3-small\", \"input\": \"http://interpark.com/displaycorner/FreeMarket.do?_method=itemCateList&free1=pc&free2=007001008003&free3=item&disp_no=007001008003\", \"max_tokens\": 1000}}, {\"custom_id\": \"url-50\", \"method\": \"POST\", \"url\": \"/v1/embeddings\", \"body\": {\"model\": \"text-embedding-3-small\", \"input\": \"http://www.newtec.ac.uk/courses/health-and-social-care/level-2-diploma-in-health-a-social-care-.html\", \"max_tokens\": 1000}}, {\"custom_id\": \"url-51\", \"method\": \"POST\", \"url\": \"/v1/embeddings\", \"body\": {\"model\": \"text-embedding-3-small\", \"input\": \"http://www.kingsmillshotel.com/spring/mothers-day\", \"max_tokens\": 1000}}, {\"custom_id\": \"url-52\", \"method\": \"POST\", \"url\": \"/v1/embeddings\", \"body\": {\"model\": \"text-embedding-3-small\", \"input\": \"almanac.logos.com/Denominations\", \"max_tokens\": 1000}}, {\"custom_id\": \"url-53\", \"method\": \"POST\", \"url\": \"/v1/embeddings\", \"body\": {\"model\": \"text-embedding-3-small\", \"input\": \"gaming.wikia.com/wiki/Backbreaker_(video_game)\", \"max_tokens\": 1000}}, {\"custom_id\": \"url-54\", \"method\": \"POST\", \"url\": \"/v1/embeddings\", \"body\": {\"model\": \"text-embedding-3-small\", \"input\": \"ceu.hu/\", \"max_tokens\": 1000}}, {\"custom_id\": \"url-55\", \"method\": \"POST\", \"url\": \"/v1/embeddings\", \"body\": {\"model\": \"text-embedding-3-small\", \"input\": \"registry.weddingchannel.com/coupledir/20108/C/R314763282/JARED_CLOUGH_AND_TAJAI_RITCHIE.htm\", \"max_tokens\": 1000}}, {\"custom_id\": \"url-56\", \"method\": \"POST\", \"url\": \"/v1/embeddings\", \"body\": {\"model\": \"text-embedding-3-small\", \"input\": \"linkedin.com/pub/george-cleveland/7/80a/599\", \"max_tokens\": 1000}}, {\"custom_id\": \"url-57\", \"method\": \"POST\", \"url\": \"/v1/embeddings\", \"body\": {\"model\": \"text-embedding-3-small\", \"input\": \"sunshinemills.com/\", \"max_tokens\": 1000}}, {\"custom_id\": \"url-58\", \"method\": \"POST\", \"url\": \"/v1/embeddings\", \"body\": {\"model\": \"text-embedding-3-small\", \"input\": \"agoda.com/north_america/canada/montreal_qc/attractions/hotels_near_mcgill_university_centre_for_continuing_education.html\", \"max_tokens\": 1000}}, {\"custom_id\": \"url-59\", \"method\": \"POST\", \"url\": \"/v1/embeddings\", \"body\": {\"model\": \"text-embedding-3-small\", \"input\": \"ctv.ca/generic/WebSpecials/sponsorship_scandal/\", \"max_tokens\": 1000}}, {\"custom_id\": \"url-60\", \"method\": \"POST\", \"url\": \"/v1/embeddings\", \"body\": {\"model\": \"text-embedding-3-small\", \"input\": \"http://www.approvi.com.br/ck.htm\", \"max_tokens\": 1000}}, {\"custom_id\": \"url-61\", \"method\": \"POST\", \"url\": \"/v1/embeddings\", \"body\": {\"model\": \"text-embedding-3-small\", \"input\": \"http://www.shaborooz.ir/index.php?view=article&catid=7:1390-01-27-09-09-55&id=23:1390-04-12-08-07-33&tmpl=component&print=1&layout=default&page=&option=com_content&Itemid=2\", \"max_tokens\": 1000}}, {\"custom_id\": \"url-62\", \"method\": \"POST\", \"url\": \"/v1/embeddings\", \"body\": {\"model\": \"text-embedding-3-small\", \"input\": \"veoox.com/tags/game.html\", \"max_tokens\": 1000}}, {\"custom_id\": \"url-63\", \"method\": \"POST\", \"url\": \"/v1/embeddings\", \"body\": {\"model\": \"text-embedding-3-small\", \"input\": \"chuckwalkertrio.blogspot.com/\", \"max_tokens\": 1000}}, {\"custom_id\": \"url-64\", \"method\": \"POST\", \"url\": \"/v1/embeddings\", \"body\": {\"model\": \"text-embedding-3-small\", \"input\": \"aerosolesshoes.org/\", \"max_tokens\": 1000}}, {\"custom_id\": \"url-65\", \"method\": \"POST\", \"url\": \"/v1/embeddings\", \"body\": {\"model\": \"text-embedding-3-small\", \"input\": \"http://www.juventudelirica.com.br/index.html\", \"max_tokens\": 1000}}, {\"custom_id\": \"url-66\", \"method\": \"POST\", \"url\": \"/v1/embeddings\", \"body\": {\"model\": \"text-embedding-3-small\", \"input\": \"http://www.myenrg.com/southwest/9-texas\", \"max_tokens\": 1000}}, {\"custom_id\": \"url-67\", \"method\": \"POST\", \"url\": \"/v1/embeddings\", \"body\": {\"model\": \"text-embedding-3-small\", \"input\": \"recipelink.com/msgbrd/board_14/2007/DEC/29094.html\", \"max_tokens\": 1000}}, {\"custom_id\": \"url-68\", \"method\": \"POST\", \"url\": \"/v1/embeddings\", \"body\": {\"model\": \"text-embedding-3-small\", \"input\": \"http://www.musimagen.com/lista_socios.php?letra=\\\\\\\\303%91\", \"max_tokens\": 1000}}, {\"custom_id\": \"url-69\", \"method\": \"POST\", \"url\": \"/v1/embeddings\", \"body\": {\"model\": \"text-embedding-3-small\", \"input\": \"ideas.repec.org/f/pma235.html\", \"max_tokens\": 1000}}, {\"custom_id\": \"url-70\", \"method\": \"POST\", \"url\": \"/v1/embeddings\", \"body\": {\"model\": \"text-embedding-3-small\", \"input\": \"peopleaz.org/firstname/Fowlkes/6\", \"max_tokens\": 1000}}, {\"custom_id\": \"url-71\", \"method\": \"POST\", \"url\": \"/v1/embeddings\", \"body\": {\"model\": \"text-embedding-3-small\", \"input\": \"orensamtraktrip.wordpress.com/\", \"max_tokens\": 1000}}, {\"custom_id\": \"url-72\", \"method\": \"POST\", \"url\": \"/v1/embeddings\", \"body\": {\"model\": \"text-embedding-3-small\", \"input\": \"retajconsultancy.com\", \"max_tokens\": 1000}}, {\"custom_id\": \"url-73\", \"method\": \"POST\", \"url\": \"/v1/embeddings\", \"body\": {\"model\": \"text-embedding-3-small\", \"input\": \"alexa.com/whatshot?q=james+arness\", \"max_tokens\": 1000}}, {\"custom_id\": \"url-74\", \"method\": \"POST\", \"url\": \"/v1/embeddings\", \"body\": {\"model\": \"text-embedding-3-small\", \"input\": \"jpopasia.com/group/arashi/discography/\", \"max_tokens\": 1000}}, {\"custom_id\": \"url-75\", \"method\": \"POST\", \"url\": \"/v1/embeddings\", \"body\": {\"model\": \"text-embedding-3-small\", \"input\": \"kitsapsun.com/photos/2011/feb/25/177999/\", \"max_tokens\": 1000}}, {\"custom_id\": \"url-76\", \"method\": \"POST\", \"url\": \"/v1/embeddings\", \"body\": {\"model\": \"text-embedding-3-small\", \"input\": \"local.yahoo.com/info-42862457-oakland-international-airport-oakland\", \"max_tokens\": 1000}}, {\"custom_id\": \"url-77\", \"method\": \"POST\", \"url\": \"/v1/embeddings\", \"body\": {\"model\": \"text-embedding-3-small\", \"input\": \"tripadvisor.com/Restaurant_Review-g680765-d1768647-Reviews-Yacha_Yacha-Miyakojima_Okinawa_Prefecture_Kyushu_Okinawa.html\", \"max_tokens\": 1000}}, {\"custom_id\": \"url-78\", \"method\": \"POST\", \"url\": \"/v1/embeddings\", \"body\": {\"model\": \"text-embedding-3-small\", \"input\": \"articles.elitefts.com/articles/training-articles/five-great-exercises-for-building-a-dominant-defensive-lineman/\", \"max_tokens\": 1000}}, {\"custom_id\": \"url-79\", \"method\": \"POST\", \"url\": \"/v1/embeddings\", \"body\": {\"model\": \"text-embedding-3-small\", \"input\": \"broadwaystars.com/classic/?source=www.playbill.com\", \"max_tokens\": 1000}}, {\"custom_id\": \"url-80\", \"method\": \"POST\", \"url\": \"/v1/embeddings\", \"body\": {\"model\": \"text-embedding-3-small\", \"input\": \"http://www.pn-wuppertal.de/links/2-linkseite/5-httpwwwkrebshilfede\", \"max_tokens\": 1000}}, {\"custom_id\": \"url-81\", \"method\": \"POST\", \"url\": \"/v1/embeddings\", \"body\": {\"model\": \"text-embedding-3-small\", \"input\": \"forums.networkinfrastructure.info/motorola-wireless-lan-switches/\", \"max_tokens\": 1000}}, {\"custom_id\": \"url-82\", \"method\": \"POST\", \"url\": \"/v1/embeddings\", \"body\": {\"model\": \"text-embedding-3-small\", \"input\": \"youtube.com/watch?v=mwpoPQ1SPJU\", \"max_tokens\": 1000}}, {\"custom_id\": \"url-83\", \"method\": \"POST\", \"url\": \"/v1/embeddings\", \"body\": {\"model\": \"text-embedding-3-small\", \"input\": \"mccall-idchamber.org/\", \"max_tokens\": 1000}}, {\"custom_id\": \"url-84\", \"method\": \"POST\", \"url\": \"/v1/embeddings\", \"body\": {\"model\": \"text-embedding-3-small\", \"input\": \"chacha.com/question/who-said-the-quote-%27say-what-you-mean%2C-mean-what-you-say-and-put-a-beat-to-it%27\", \"max_tokens\": 1000}}, {\"custom_id\": \"url-85\", \"method\": \"POST\", \"url\": \"/v1/embeddings\", \"body\": {\"model\": \"text-embedding-3-small\", \"input\": \"friars.com/sports/m-baskbl/archive/prov-m-baskbl-2003.html\", \"max_tokens\": 1000}}, {\"custom_id\": \"url-86\", \"method\": \"POST\", \"url\": \"/v1/embeddings\", \"body\": {\"model\": \"text-embedding-3-small\", \"input\": \"http://asociacionkaribu.org/index.php/servicios/centro-jambo\", \"max_tokens\": 1000}}, {\"custom_id\": \"url-87\", \"method\": \"POST\", \"url\": \"/v1/embeddings\", \"body\": {\"model\": \"text-embedding-3-small\", \"input\": \"http://www.martin-busker.de/administrator/help/en-GB/css/Facture/c4d12146ebce8e1684d3542308399779/8fa39dab95edb1b676b638a672278eae/particuliers-45636.php\", \"max_tokens\": 1000}}, {\"custom_id\": \"url-88\", \"method\": \"POST\", \"url\": \"/v1/embeddings\", \"body\": {\"model\": \"text-embedding-3-small\", \"input\": \"pipl.com/directory/name/Whissell/180\", \"max_tokens\": 1000}}, {\"custom_id\": \"url-89\", \"method\": \"POST\", \"url\": \"/v1/embeddings\", \"body\": {\"model\": \"text-embedding-3-small\", \"input\": \"spokeo.com/John+Collet\", \"max_tokens\": 1000}}, {\"custom_id\": \"url-90\", \"method\": \"POST\", \"url\": \"/v1/embeddings\", \"body\": {\"model\": \"text-embedding-3-small\", \"input\": \"http://www.parafiapiaski.pl/index.php?option=com_user&view=remind\", \"max_tokens\": 1000}}, {\"custom_id\": \"url-91\", \"method\": \"POST\", \"url\": \"/v1/embeddings\", \"body\": {\"model\": \"text-embedding-3-small\", \"input\": \"http://fanpage.gr/family/gineka/%ce%b1%cf%85%cf%84%ce%bf%ce%af-%ce%b5%ce%af%ce%bd%ce%b1%ce%b9-%ce%bf%ce%b9-13-%cf%89%cf%81%ce%b1%ce%b9%cf%8c%cf%84%ce%b5%cf%81%ce%bf%ce%b9-%ce%ad%ce%bb%ce%bb%ce%b7%ce%bd%ce%b5%cf%82-%ce%b1%ce%bd-2/\", \"max_tokens\": 1000}}, {\"custom_id\": \"url-92\", \"method\": \"POST\", \"url\": \"/v1/embeddings\", \"body\": {\"model\": \"text-embedding-3-small\", \"input\": \"faqs.org/copyright/handbook-for-the-individual-or-group-culture-free/\", \"max_tokens\": 1000}}, {\"custom_id\": \"url-93\", \"method\": \"POST\", \"url\": \"/v1/embeddings\", \"body\": {\"model\": \"text-embedding-3-small\", \"input\": \"duckduckgo.com/1/c/Roman_Catholic_cathedrals_in_Canada\", \"max_tokens\": 1000}}, {\"custom_id\": \"url-94\", \"method\": \"POST\", \"url\": \"/v1/embeddings\", \"body\": {\"model\": \"text-embedding-3-small\", \"input\": \"alexpay2.beget.tech\", \"max_tokens\": 1000}}, {\"custom_id\": \"url-95\", \"method\": \"POST\", \"url\": \"/v1/embeddings\", \"body\": {\"model\": \"text-embedding-3-small\", \"input\": \"http://worldoftanks.ru/ru/content/guide/payments_instruction/mobile-payments-rostelekom-ural-utel/\", \"max_tokens\": 1000}}, {\"custom_id\": \"url-96\", \"method\": \"POST\", \"url\": \"/v1/embeddings\", \"body\": {\"model\": \"text-embedding-3-small\", \"input\": \"http://www.artedesignsas.it/catalogo.html?page=shop.browse&category_id=14\", \"max_tokens\": 1000}}, {\"custom_id\": \"url-97\", \"method\": \"POST\", \"url\": \"/v1/embeddings\", \"body\": {\"model\": \"text-embedding-3-small\", \"input\": \"en.wikipedia.org/wiki/Lloyd_Bacon\", \"max_tokens\": 1000}}, {\"custom_id\": \"url-98\", \"method\": \"POST\", \"url\": \"/v1/embeddings\", \"body\": {\"model\": \"text-embedding-3-small\", \"input\": \"http://serverfault.com/questions/682832/squid-transparent-https-certificate-error-ssl-error-bad-cert-domain\", \"max_tokens\": 1000}}, {\"custom_id\": \"url-99\", \"method\": \"POST\", \"url\": \"/v1/embeddings\", \"body\": {\"model\": \"text-embedding-3-small\", \"input\": \"http://www.viamanaus.com.br/index.php?option=com_wrapper&view=wrapper&Itemid=297\", \"max_tokens\": 1000}}]'"
      ]
     },
     "execution_count": 29,
     "metadata": {},
     "output_type": "execute_result"
    }
   ],
   "source": [
    "jsonurls"
   ]
  }
 ],
 "metadata": {
  "kernelspec": {
   "display_name": "Python 3",
   "language": "python",
   "name": "python3"
  },
  "language_info": {
   "codemirror_mode": {
    "name": "ipython",
    "version": 3
   },
   "file_extension": ".py",
   "mimetype": "text/x-python",
   "name": "python",
   "nbconvert_exporter": "python",
   "pygments_lexer": "ipython3",
   "version": "3.11.7"
  }
 },
 "nbformat": 4,
 "nbformat_minor": 2
}
